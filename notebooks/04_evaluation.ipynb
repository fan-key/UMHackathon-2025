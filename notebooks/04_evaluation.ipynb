{
 "cells": [
  {
   "cell_type": "code",
   "execution_count": 99,
   "metadata": {},
   "outputs": [],
   "source": [
    "import pandas as pd\n",
    "from sklearn.metrics import classification_report, confusion_matrix\n",
    "import joblib"
   ]
  },
  {
   "cell_type": "code",
   "execution_count": 100,
   "metadata": {},
   "outputs": [],
   "source": [
    "\n",
    "model = joblib.load(\"../model/model_random_forest.pkl\")"
   ]
  },
  {
   "cell_type": "code",
   "execution_count": 101,
   "metadata": {},
   "outputs": [
    {
     "name": "stdout",
     "output_type": "stream",
     "text": [
      "(1997, 15)\n",
      "(1997, 1)\n"
     ]
    }
   ],
   "source": [
    "Y_test = pd.read_csv(\"../data/y_test.csv\")\n",
    "X_test = pd.read_csv(\"../data/X_test.csv\")\n",
    "print(X_test.shape)\n",
    "print(Y_test.shape)"
   ]
  },
  {
   "cell_type": "code",
   "execution_count": 102,
   "metadata": {},
   "outputs": [
    {
     "name": "stdout",
     "output_type": "stream",
     "text": [
      "Predictions:  [-1  1  1 ...  1 -1  1]\n",
      "Confusion Matrix: \n",
      "[[497  33 288]\n",
      " [143  26 148]\n",
      " [318  32 512]]\n",
      "Classification Report: \n",
      "              precision    recall  f1-score   support\n",
      "\n",
      "          -1       0.52      0.61      0.56       818\n",
      "           0       0.29      0.08      0.13       317\n",
      "           1       0.54      0.59      0.57       862\n",
      "\n",
      "    accuracy                           0.52      1997\n",
      "   macro avg       0.45      0.43      0.42      1997\n",
      "weighted avg       0.49      0.52      0.49      1997\n",
      "\n",
      "Accuracy:  0.5182774161241863\n"
     ]
    }
   ],
   "source": [
    "y_pred = model.predict(X_test)\n",
    "print(\"Predictions: \", y_pred)\n",
    "print(\"Confusion Matrix: \")\n",
    "print(confusion_matrix(Y_test, y_pred))\n",
    "print(\"Classification Report: \")\n",
    "print(classification_report(Y_test, y_pred))\n",
    "print(\"Accuracy: \", model.score(X_test, Y_test))\n"
   ]
  }
 ],
 "metadata": {
  "kernelspec": {
   "display_name": "Python 3",
   "language": "python",
   "name": "python3"
  },
  "language_info": {
   "codemirror_mode": {
    "name": "ipython",
    "version": 3
   },
   "file_extension": ".py",
   "mimetype": "text/x-python",
   "name": "python",
   "nbconvert_exporter": "python",
   "pygments_lexer": "ipython3",
   "version": "3.11.9"
  }
 },
 "nbformat": 4,
 "nbformat_minor": 2
}
