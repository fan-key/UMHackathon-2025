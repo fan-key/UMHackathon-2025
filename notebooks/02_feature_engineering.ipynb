{
 "cells": [
  {
   "cell_type": "code",
   "execution_count": 113,
   "metadata": {},
   "outputs": [],
   "source": [
    "import pandas as pd"
   ]
  },
  {
   "cell_type": "code",
   "execution_count": 114,
   "metadata": {},
   "outputs": [],
   "source": [
    "df = pd.read_csv(\"../data/merged_dataset.csv\")"
   ]
  },
  {
   "cell_type": "code",
   "execution_count": 115,
   "metadata": {},
   "outputs": [],
   "source": [
    "df['prev_close'] = df['close'].shift(-1)\n",
    "df['price_change'] = df['prev_close'] - df['close']"
   ]
  },
  {
   "cell_type": "code",
   "execution_count": 116,
   "metadata": {},
   "outputs": [],
   "source": [
    "if 'inflow_mean_ma7' not in df.columns:\n",
    "    df['inflow_mean_ma7'] = df['inflow'].rolling(window=7).mean().shift(1)\n",
    "\n",
    "df['inflow_spike'] = df['inflow_mean']/(df['inflow_mean_ma7'] + 1e-6)"
   ]
  },
  {
   "cell_type": "code",
   "execution_count": 117,
   "metadata": {},
   "outputs": [],
   "source": [
    "df['volume_ma7'] = df['volume'].rolling(7).mean().shift(1)\n",
    "df['volume_spike'] = df['volume']/(df['volume_ma7'] + 1e-6)"
   ]
  },
  {
   "cell_type": "code",
   "execution_count": 118,
   "metadata": {},
   "outputs": [],
   "source": [
    "df.drop(columns=['volume_ma7'], inplace=True)"
   ]
  },
  {
   "cell_type": "code",
   "execution_count": 119,
   "metadata": {},
   "outputs": [],
   "source": [
    "def classify(row):\n",
    "    if row['price_change'] > 50:\n",
    "        return 1\n",
    "    elif row['price_change'] < -50:\n",
    "        return -1\n",
    "    else:\n",
    "        return 0\n"
   ]
  },
  {
   "cell_type": "code",
   "execution_count": 120,
   "metadata": {},
   "outputs": [],
   "source": [
    "df['signal'] = df.apply(classify, axis=1)"
   ]
  },
  {
   "cell_type": "code",
   "execution_count": 121,
   "metadata": {},
   "outputs": [],
   "source": [
    "df.dropna(inplace=True)"
   ]
  },
  {
   "cell_type": "code",
   "execution_count": 122,
   "metadata": {},
   "outputs": [
    {
     "name": "stdout",
     "output_type": "stream",
     "text": [
      "Features added and 'result' column saved.\n",
      "signal\n",
      " 1    4310\n",
      "-1    4090\n",
      " 0    1584\n",
      "Name: count, dtype: int64\n"
     ]
    }
   ],
   "source": [
    "df.to_csv(\"../data/merged_dataset.csv\", index=False)\n",
    "print(\"Features added and 'result' column saved.\")\n",
    "print(df.signal.value_counts())"
   ]
  }
 ],
 "metadata": {
  "kernelspec": {
   "display_name": "Python 3",
   "language": "python",
   "name": "python3"
  },
  "language_info": {
   "codemirror_mode": {
    "name": "ipython",
    "version": 3
   },
   "file_extension": ".py",
   "mimetype": "text/x-python",
   "name": "python",
   "nbconvert_exporter": "python",
   "pygments_lexer": "ipython3",
   "version": "3.11.9"
  }
 },
 "nbformat": 4,
 "nbformat_minor": 2
}
